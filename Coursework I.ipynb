{
  "nbformat": 4,
  "nbformat_minor": 0,
  "metadata": {
    "kernelspec": {
      "name": "python36",
      "display_name": "Python 3.6",
      "language": "python"
    },
    "language_info": {
      "mimetype": "text/x-python",
      "nbconvert_exporter": "python",
      "name": "python",
      "pygments_lexer": "ipython3",
      "version": "3.6.6",
      "file_extension": ".py",
      "codemirror_mode": {
        "version": 3,
        "name": "ipython"
      }
    },
    "colab": {
      "name": "Coursework I.ipynb",
      "provenance": []
    }
  },
  "cells": [
    {
      "cell_type": "markdown",
      "metadata": {
        "collapsed": true,
        "id": "ALq2J2vq4kU3",
        "colab_type": "text"
      },
      "source": [
        "# Coursework I: Matrices\n",
        "\n",
        "Submission instructions: Attach the link to your python notebook with your submission so that I can clone it and run it.\n",
        "\n",
        "## Deadline: 12pm, Friday 9th November 2018"
      ]
    },
    {
      "cell_type": "code",
      "metadata": {
        "id": "X39fqNKt4saI",
        "colab_type": "code",
        "colab": {}
      },
      "source": [
        "import numpy as np"
      ],
      "execution_count": 0,
      "outputs": []
    },
    {
      "cell_type": "markdown",
      "metadata": {
        "id": "MfMKb6Wd4kU5",
        "colab_type": "text"
      },
      "source": [
        "### Question 3 (b)\n",
        "Solve the following to validate your hand calculation. \n",
        "$$\\begin{bmatrix} -1 & 2 & 1\\\\ -2 & 5 & 3\\\\ 1 & -3 & 0\\end{bmatrix} \n",
        "\\begin{bmatrix}x \\\\ y \\\\ z \\end{bmatrix} = \\begin{bmatrix}2\\\\ 7\\\\ -3 \\end{bmatrix}$$\n",
        "You will need to use <tt>NumPy</tt>."
      ]
    },
    {
      "cell_type": "code",
      "metadata": {
        "trusted": true,
        "id": "GFYV1QOT4kU6",
        "colab_type": "code",
        "outputId": "6d459bd1-fc6f-46f3-f4a9-fcba5eef017c",
        "colab": {
          "base_uri": "https://localhost:8080/",
          "height": 34
        }
      },
      "source": [
        "# Solve Question 3 (b) here\n",
        "A = np.array([[-1,2,1],\n",
        "             [-2,5,3],\n",
        "             [1,-3,0]]) \n",
        "# print('A={}'.format(A))\n",
        "\n",
        "B = np.array([2,7,-3])\n",
        "\n",
        "# print('B={}'.format(B))\n",
        "\n",
        "x = np.matmul(np.linalg.inv(A),B)\n",
        "\n",
        "print('The variables [x,y,z]={}'.format(x))"
      ],
      "execution_count": 0,
      "outputs": [
        {
          "output_type": "stream",
          "text": [
            "The variables [x,y,z]=[3. 2. 1.]\n"
          ],
          "name": "stdout"
        }
      ]
    },
    {
      "cell_type": "markdown",
      "metadata": {
        "id": "7p4-Wslr4kU-",
        "colab_type": "text"
      },
      "source": [
        "### Question 4 (c) \n",
        "Having rearranged the problem in the general form of an eigenvalue problem <br/> <br/> $$KQ - \\lambda MQ = 0$$  where  $$Q = \\begin{bmatrix} Q_1 \\\\ Q_2 \\end{bmatrix},$$ <br/> <br/> write a <tt>python</tt> code which read in general inputs for $k_s$ and $k_b$ and finds the smallest eigenvalue and corresponding eigenvector of the problem. The program should **clearly** print these results to the screen. Once again, you will need <tt>NumPy</tt>."
      ]
    },
    {
      "cell_type": "code",
      "metadata": {
        "trusted": true,
        "id": "Ix36Y6jh4kVA",
        "colab_type": "code",
        "outputId": "6311342e-c2ff-464d-cc7d-27d984833271",
        "colab": {
          "base_uri": "https://localhost:8080/",
          "height": 221
        }
      },
      "source": [
        "# Solve 4 (c) here\n",
        "import numpy as np\n",
        "from scipy import linalg\n",
        "\n",
        "\n",
        "k_s = float(input(\"What is k_s:\"))\n",
        "k_b = float(input(\"What is k_b:\"))\n",
        "Q_1 = 1\n",
        "Q_2 = 2\n",
        "\n",
        "Q = np.array([[Q_1],\n",
        "             [Q_2]])\n",
        "\n",
        "K = np.array([[k_s +5*k_b, -4*k_b],\n",
        "              [-4*k_b, k_s +5*k_b]])\n",
        "\n",
        "M = np.array([[2,-1],\n",
        "              [-1,2]])\n",
        "\n",
        "# w,v = linalg.eig(np.matmul(K,Q),np.matmul(M, Q))\n",
        "\n",
        "w,v = linalg.eig(K,M)\n",
        "\n",
        "print(\"eigenvalues = \")\n",
        "print (w)\n",
        "print(\"eigenvectors = \")\n",
        "print (v)\n",
        "\n",
        "print(\"Minimum eigenvalue w =\")\n",
        "print(min(w))\n",
        "index_min = np.argmin(w)\n",
        "print(index_min)\n",
        "# Note that w is complex valued\n",
        "print(\"min eigenvectors v =\")\n",
        "print(v[index_min])\n",
        "# Note that v is unit-normalised, i.e., norm(column of v)=1"
      ],
      "execution_count": 0,
      "outputs": [
        {
          "output_type": "stream",
          "text": [
            "What is k_s:1\n",
            "What is k_b:1\n",
            "eigenvalues = \n",
            "[3.33333333+0.j 2.        +0.j]\n",
            "eigenvectors = \n",
            "[[-0.70710678  0.70710678]\n",
            " [ 0.70710678  0.70710678]]\n",
            "Minimum eigenvalue w =\n",
            "(2.0000000000000004+0j)\n",
            "1\n",
            "min eigenvectors v =\n",
            "[0.70710678 0.70710678]\n"
          ],
          "name": "stdout"
        }
      ]
    },
    {
      "cell_type": "markdown",
      "metadata": {
        "id": "FERdBgQp4kVF",
        "colab_type": "text"
      },
      "source": [
        "### Question 4 (d)\n",
        "Plot all the eigenvectors (buckling mode shapes). To do this, you will need <tt>matplotlib</tt>."
      ]
    },
    {
      "cell_type": "code",
      "metadata": {
        "trusted": true,
        "id": "xW2LLzPy4kVG",
        "colab_type": "code",
        "outputId": "64fd9563-429c-46fb-d297-b69bcf3cc622",
        "colab": {
          "base_uri": "https://localhost:8080/",
          "height": 286
        }
      },
      "source": [
        "import matplotlib.pyplot as pl\n",
        "pl.figure(1)\n",
        "y = np.array([2,1,0])\n",
        "\n",
        "mode1 = np.concatenate((v[:,0],np.array([0])))\n",
        "mode2 = np.concatenate((v[:,1],np.array([0])))\n",
        "pl.plot(mode1,y,label='mode1')\n",
        "pl.plot(mode2,y,label='mode2')\n",
        "\n",
        "pl.grid(True)\n",
        "pl.xlim([-1,1])\n",
        "pl.ylim([0,2])\n",
        "pl.legend()"
      ],
      "execution_count": 13,
      "outputs": [
        {
          "output_type": "execute_result",
          "data": {
            "text/plain": [
              "<matplotlib.legend.Legend at 0x7f2263554978>"
            ]
          },
          "metadata": {
            "tags": []
          },
          "execution_count": 13
        },
        {
          "output_type": "display_data",
          "data": {
            "image/png": "[encoded data removed]",
            "text/plain": [
              "<Figure size 432x288 with 1 Axes>"
            ]
          },
          "metadata": {
            "tags": []
          }
        }
      ]
    },
    {
      "cell_type": "code",
      "metadata": {
        "id": "W9hF8xAvTiqy",
        "colab_type": "code",
        "colab": {
          "base_uri": "https://localhost:8080/",
          "height": 298
        },
        "outputId": "d10f71e5-24f9-4853-e10d-aee67545f292"
      },
      "source": [
        "import matplotlib.pyplot as pl\n",
        "pl.figure(1)\n",
        "\n",
        "Baseline = [0,0,0,0]\n",
        "mode1 = np.concatenate(([0], v[:,0], [0]))\n",
        "mode2 = np.concatenate(([0], v[:,1], [0]))\n",
        "pl.plot(Baseline, '--go', label='Unloaded')\n",
        "pl.plot(mode1, '-ro', label='Mode 1')\n",
        "pl.plot(mode2, '-bo', label='Mode 2')\n",
        "\n",
        "pl.title('Buckling Modes')\n",
        "#pl.tight_layout()\n",
        "\n",
        "pl.grid(True)\n",
        "\n",
        "pl.legend()"
      ],
      "execution_count": 35,
      "outputs": [
        {
          "output_type": "execute_result",
          "data": {
            "text/plain": [
              "<matplotlib.legend.Legend at 0x7f2262ab8828>"
            ]
          },
          "metadata": {
            "tags": []
          },
          "execution_count": 35
        },
        {
          "output_type": "display_data",
          "data": {
            "image/png": "[encoded data removed]",
            "text/plain": [
              "<Figure size 432x288 with 1 Axes>"
            ]
          },
          "metadata": {
            "tags": []
          }
        }
      ]
    }
  ]
}